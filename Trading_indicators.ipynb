{
  "cells": [
    {
      "cell_type": "markdown",
      "metadata": {
        "id": "view-in-github",
        "colab_type": "text"
      },
      "source": [
        "<a href=\"https://colab.research.google.com/github/Sreerag-Pillai/Data_Science/blob/main/Trading_indicators.ipynb\" target=\"_parent\"><img src=\"https://colab.research.google.com/assets/colab-badge.svg\" alt=\"Open In Colab\"/></a>"
      ]
    },
    {
      "cell_type": "markdown",
      "source": [
        "This notebook demonstrates the calculation and visualization of various technical indicators commonly used in financial analysis. These indicators include:\n",
        "\n",
        "Double Exponential Moving Average (DEMA): A trend-following indicator that aims to reduce lag compared to traditional moving averages.\n",
        "\n",
        "Adaptive Moving Average (AMA) / Kaufman's Adaptive Moving Average (KAMA): An indicator that adjusts its sensitivity based on market volatility.\n",
        "\n",
        "Moving Average with Variable Period (MAVP): A moving average that adapts its period based on market conditions.\n",
        "\n",
        "Absolute Price Oscillator (APO): An oscillator that measures the difference between two exponential moving averages of different periods.\n",
        "\n",
        "Percentage Price Oscillator (PPO): Similar to APO, but expresses the difference as a percentage of the slower moving average.\n",
        "\n",
        "The notebook provides Python code for calculating these indicators and uses the mplfinance library to create candlestick charts with the indicators overlaid. This allows for visual analysis of price trends and potential trading signals."
      ],
      "metadata": {
        "id": "yLO48Gan1vSG"
      },
      "id": "yLO48Gan1vSG"
    },
    {
      "cell_type": "code",
      "execution_count": null,
      "id": "73415c61",
      "metadata": {
        "id": "73415c61"
      },
      "outputs": [],
      "source": [
        "!pip install matplotlib\n",
        "!pip install pandas\n",
        "!pip install mplfinance"
      ]
    },
    {
      "cell_type": "markdown",
      "id": "4095a7a5",
      "metadata": {
        "id": "4095a7a5"
      },
      "source": [
        "## Double Exponential Moving Average (DEMA)\n",
        "\n",
        "### Date: September 2023\n",
        "\n",
        "#### Available Parameters:\n",
        "* Period (Default value: 14)\n",
        "* Single exponential moving average (Single EMA)\n",
        "\n",
        "source: https://www.investopedia.com/terms/d/double-exponential-moving-average.asp"
      ]
    },
    {
      "cell_type": "code",
      "execution_count": null,
      "id": "7d1d9d3f",
      "metadata": {
        "id": "7d1d9d3f"
      },
      "outputs": [],
      "source": [
        "import matplotlib.pyplot as plt\n",
        "import pandas as pd\n",
        "import mplfinance as mpf\n",
        "\n",
        "# Reading the CSV file\n",
        "data = pd.read_csv(\"SampleData.csv\")\n",
        "\n",
        "# Convert 'Date' column to datetime format and set it as the index\n",
        "data['Date'] = pd.to_datetime(data['Date'])\n",
        "data.set_index('Date', inplace=True)\n",
        "\n",
        "def calculate_ema(prices, period):\n",
        "    #Calculate Exponential Moving Average\n",
        "    ema = prices.ewm(span=period, adjust=False).mean()\n",
        "    return ema\n",
        "\n",
        "def calculate_dema(prices, period=15):\n",
        "    #Calculate Double Exponential Moving Average\n",
        "    ema = calculate_ema(prices, period)\n",
        "    ema_of_ema = calculate_ema(ema, period)\n",
        "    dema = 2 * ema - ema_of_ema\n",
        "    return dema\n",
        "\n",
        "# Calculate DEMA for the Close prices\n",
        "data['DEMA'] = calculate_dema(data['Close'])\n",
        "\n",
        "# Function to plot OHLC candlestick chart with DEMA\n",
        "def plot_candlestick_indicator(data, indicator_column, title):\n",
        "    ap = [mpf.make_addplot(data[indicator_column], color='r')]\n",
        "    mpf.plot(data, type='candle', style='yahoo', title=title,\n",
        "             volume=False, addplot=ap, figratio=(14, 7), ylabel='Price')\n",
        "\n",
        "# Plot OHLC candlestick chart with DEMA\n",
        "plot_candlestick_indicator(data, 'DEMA', 'Stock Price with Double Exponential Moving Average (DEMA)')\n"
      ]
    },
    {
      "cell_type": "markdown",
      "id": "eb37aea4",
      "metadata": {
        "id": "eb37aea4"
      },
      "source": [
        "## Adaptive Moving Average (AMA) - Also known as Kaufman's Adaptive Moving Average (KAMA)\n",
        "\n",
        "### Date: September 2023\n",
        "\n",
        "#### Available Parameters:\n",
        "* Efficiency Ratio (ER)(period: 10)\n",
        "* Fast EMA (Default value: 2)\n",
        "* Slow EMA (Default value: 30)\n",
        "\n",
        "source:https://school.stockcharts.com/doku.php?id=technical_indicators:kaufman_s_adaptive_moving_average"
      ]
    },
    {
      "cell_type": "code",
      "execution_count": null,
      "id": "2c396ccf",
      "metadata": {
        "id": "2c396ccf"
      },
      "outputs": [],
      "source": [
        "# Reading the CSV file\n",
        "data = pd.read_csv(\"SampleData.csv\")\n",
        "\n",
        "# Convert 'Date' column to datetime format and set it as the index\n",
        "data['Date'] = pd.to_datetime(data['Date'])\n",
        "data.set_index('Date', inplace=True)\n",
        "\n",
        "# KAMA (Adaptive Moving Average)\n",
        "def calculate_ama(prices, period=10, fast_ema=2, slow_ema=30):\n",
        "    change = prices.diff(period).abs()\n",
        "    volatility = prices.diff().abs().rolling(period).sum()\n",
        "    volatility = volatility.where(volatility != 0, 1)\n",
        "    ER = change / volatility\n",
        "    fastest_sc = 2 / (fast_ema + 1)\n",
        "    slowest_sc = 2 / (slow_ema + 1)\n",
        "    SC = ER * (fastest_sc - slowest_sc) + slowest_sc\n",
        "    SC_squared = SC * SC\n",
        "    AMA = prices.copy()\n",
        "    for i in range(period, len(prices)):\n",
        "        AMA[i] = AMA[i - 1] + SC_squared[i] * (prices[i] - AMA[i - 1])\n",
        "    return AMA\n",
        "\n",
        "\n",
        "# Calculate KAMA for the Close prices\n",
        "data['KAMA'] = calculate_ama(data['Close'])\n",
        "\n",
        "# Function to plot OHLC candlestick chart with overlayed KAMA\n",
        "def plot_candlestick_with_overlayed_indicator(data, indicator_column, title):\n",
        "    ap = [mpf.make_addplot(data[indicator_column], color='r')]\n",
        "    mpf.plot(data, type='candle', style='yahoo', title=title,\n",
        "             volume=False, addplot=ap, figratio=(14, 7), ylabel='Price')\n",
        "\n",
        "# Plot OHLC candlestick chart with KAMA\n",
        "plot_candlestick_indicator(data, 'KAMA', 'Stock Price with Kaufman Adaptive Moving Average (KAMA)')\n"
      ]
    },
    {
      "cell_type": "markdown",
      "id": "f371dc57",
      "metadata": {
        "id": "f371dc57"
      },
      "source": [
        "## Moving Average with Variable Period (MAVP)\n",
        "\n",
        "### Date: September 2023\n",
        "\n",
        "#### Available Parameters:\n",
        "* Period (Default value: 14)\n",
        "\n",
        "\n",
        "source: https://trendspider.com/learning-center/what-is-the-moving-average-with-variable-period-mavp/#:~:text=Moving%20Average%20with%20Variable%20Period%20(MAVP)%20is%20a%20powerful%20technical,the%20accuracy%20of%20trend%20identification.\n"
      ]
    },
    {
      "cell_type": "code",
      "execution_count": null,
      "id": "b4e41d90",
      "metadata": {
        "id": "b4e41d90"
      },
      "outputs": [],
      "source": [
        "# Reading the CSV file\n",
        "data = pd.read_csv(\"SampleData.csv\")\n",
        "\n",
        "# Convert 'Date' column to datetime format and set it as the index\n",
        "data['Date'] = pd.to_datetime(data['Date'])\n",
        "data.set_index('Date', inplace=True)\n",
        "\n",
        "def calculate_weighted_mavp(prices, period=14):\n",
        "    #Calculate Moving Average with Variable Period (MAVP) based on weighted average approach.\n",
        "\n",
        "    weighted_mavp = []\n",
        "\n",
        "    for i in range(len(prices)):\n",
        "        if i < period - 1:\n",
        "            # Not enough data points to compute MAVP\n",
        "            weighted_mavp.append(None)\n",
        "        else:\n",
        "            weights = list(range(period, 0, -1))  # Generate decreasing weights\n",
        "            window = prices[i-period+1:i+1]\n",
        "            mavp_value = sum(window * weights) / sum(weights)\n",
        "            weighted_mavp.append(mavp_value)\n",
        "\n",
        "    return pd.Series(weighted_mavp, index=prices.index)\n",
        "\n",
        "# Calculate MAVP for the Close prices\n",
        "data['Weighted_MAVP'] = calculate_weighted_mavp(data['Close'], period=14)\n",
        "\n",
        "# Function to plot OHLC candlestick chart with indicator\n",
        "def plot_candlestick_with_overlayed_indicator(data, indicator_column, title):\n",
        "    ap = [mpf.make_addplot(data[indicator_column], color='r')]\n",
        "    mpf.plot(data, type='candle', style='yahoo', title=title,\n",
        "             volume=False, addplot=ap, figratio=(14, 7), ylabel='Price')\n",
        "\n",
        "# Plot the data\n",
        "plot_candlestick_with_overlayed_indicator(data, 'Weighted_MAVP', 'Stock Price with Moving Average with Variable Period (MAVP)')\n"
      ]
    },
    {
      "cell_type": "markdown",
      "id": "1f399326",
      "metadata": {
        "id": "1f399326"
      },
      "source": [
        "## APO - Absolute Price Oscillator\n",
        "### Date: September 2023\n",
        "\n",
        "#### Available Parameters:\n",
        "* Fast EMA (Default value: 12)\n",
        "* Slow EMA (Default value: 26)\n",
        "\n",
        "source: https://www.fidelity.com/learning-center/trading-investing/technical-analysis/technical-indicator-guide/apo"
      ]
    },
    {
      "cell_type": "code",
      "execution_count": null,
      "id": "65a6fbb4",
      "metadata": {
        "id": "65a6fbb4"
      },
      "outputs": [],
      "source": [
        "# Reading the CSV file\n",
        "data = pd.read_csv(\"SampleData.csv\")\n",
        "\n",
        "# Convert 'Date' column to datetime format and set it as the index\n",
        "data['Date'] = pd.to_datetime(data['Date'])\n",
        "data.set_index('Date', inplace=True)\n",
        "\n",
        "# APO\n",
        "def calculate_apo(prices, fast_ema=12, slow_ema=26):\n",
        "    fast_ema_values = prices.ewm(span=fast_ema, adjust=False).mean()\n",
        "    slow_ema_values = prices.ewm(span=slow_ema, adjust=False).mean()\n",
        "    apo = fast_ema_values - slow_ema_values\n",
        "    return apo\n",
        "\n",
        "# Calculate APO and add it to the dataframe\n",
        "data['APO'] = calculate_apo(data['Close'])\n",
        "\n",
        "# Plotting\n",
        "def plot_candlestick_apo(data, apo_column, title):\n",
        "    ap = [\n",
        "        mpf.make_addplot(data[apo_column], panel=1, color='r', secondary_y=False),\n",
        "        mpf.make_addplot([0] * len(data), panel=1, color='black', linestyle='--', secondary_y=False)\n",
        "    ]\n",
        "    mpf.plot(data, type='candle', style='yahoo', title=title,\n",
        "             volume=False, addplot=ap, figratio=(14, 7), ylabel='Price', ylabel_lower='APO')\n",
        "\n",
        "# Call the plotting function for APO\n",
        "plot_candlestick_apo(data, 'APO', 'Stock Price with Separate Absolute Price Oscillator (APO)')\n"
      ]
    },
    {
      "cell_type": "markdown",
      "id": "de4a8fde",
      "metadata": {
        "id": "de4a8fde"
      },
      "source": [
        "## PPO - Percentage Price Oscillator\n",
        "### Date: September 2023\n",
        "\n",
        "#### Available Parameters:\n",
        "* Fast EMA (Default value: 12)\n",
        "* Slow EMA (Default value: 26)\n",
        "\n",
        "source: https://www.composer.trade/learn/what-is-percentage-price-oscillator-ppo"
      ]
    },
    {
      "cell_type": "code",
      "execution_count": null,
      "id": "a6003812",
      "metadata": {
        "id": "a6003812"
      },
      "outputs": [],
      "source": [
        "# Reading the CSV file\n",
        "data = pd.read_csv(\"SampleData.csv\")\n",
        "\n",
        "# Convert 'Date' column to datetime format and set it as the index\n",
        "data['Date'] = pd.to_datetime(data['Date'])\n",
        "data.set_index('Date', inplace=True)\n",
        "\n",
        "# PPO\n",
        "def calculate_ppo(prices, fast_ema=12, slow_ema=26):\n",
        "    fast_ema_values = prices.ewm(span=fast_ema, adjust=False).mean()\n",
        "    slow_ema_values = prices.ewm(span=slow_ema, adjust=False).mean()\n",
        "    ppo = ((fast_ema_values - slow_ema_values) / slow_ema_values) * 100\n",
        "    return ppo\n",
        "\n",
        "# Signal Line\n",
        "def calculate_signal_line(ppo_values, period=9):\n",
        "    return ppo_values.ewm(span=period, adjust=False).mean()\n",
        "\n",
        "# Calculate PPO, Signal Line and Histogram\n",
        "data['PPO'] = calculate_ppo(data['Close'])\n",
        "data['PPO_Signal'] = calculate_signal_line(data['PPO'])\n",
        "data['PPO_Histogram'] = data['PPO'] - data['PPO_Signal']\n",
        "\n",
        "# Plotting\n",
        "def plot_candlestick_ppo(data, title):\n",
        "    ap = [\n",
        "        mpf.make_addplot(data['PPO'], panel=1, color='blue', secondary_y=False),\n",
        "        mpf.make_addplot(data['PPO_Signal'], panel=1, color='red', secondary_y=False),\n",
        "        mpf.make_addplot(data['PPO_Histogram'], panel=1, color='green', type='bar', secondary_y=False)\n",
        "    ]\n",
        "    mpf.plot(data, type='candle', style='yahoo', title=title,\n",
        "             volume=False, addplot=ap, figratio=(14, 7), ylabel='Price', ylabel_lower='PPO')\n",
        "\n",
        "# Call the plotting function for PPO\n",
        "plot_candlestick_ppo(data, 'Stock Price with Percentage Price Oscillator (PPO)')\n"
      ]
    }
  ],
  "metadata": {
    "kernelspec": {
      "display_name": "Python 3 (ipykernel)",
      "language": "python",
      "name": "python3"
    },
    "language_info": {
      "codemirror_mode": {
        "name": "ipython",
        "version": 3
      },
      "file_extension": ".py",
      "mimetype": "text/x-python",
      "name": "python",
      "nbconvert_exporter": "python",
      "pygments_lexer": "ipython3",
      "version": "3.9.12"
    },
    "colab": {
      "provenance": [],
      "include_colab_link": true
    }
  },
  "nbformat": 4,
  "nbformat_minor": 5
}