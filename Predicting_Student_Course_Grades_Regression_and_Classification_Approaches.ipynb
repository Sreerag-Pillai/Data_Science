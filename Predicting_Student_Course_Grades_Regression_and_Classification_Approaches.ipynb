{
  "nbformat": 4,
  "nbformat_minor": 0,
  "metadata": {
    "colab": {
      "provenance": [],
      "include_colab_link": true
    },
    "kernelspec": {
      "name": "python3",
      "display_name": "Python 3"
    },
    "language_info": {
      "name": "python"
    }
  },
  "cells": [
    {
      "cell_type": "markdown",
      "metadata": {
        "id": "view-in-github",
        "colab_type": "text"
      },
      "source": [
        "<a href=\"https://colab.research.google.com/github/Sreerag-Pillai/Data_Science/blob/main/Predicting_Student_Course_Grades_Regression_and_Classification_Approaches.ipynb\" target=\"_parent\"><img src=\"https://colab.research.google.com/assets/colab-badge.svg\" alt=\"Open In Colab\"/></a>"
      ]
    },
    {
      "cell_type": "markdown",
      "source": [
        "# Predicting Student Course Grades: Regression and Classification Approaches"
      ],
      "metadata": {
        "id": "bXHxX4Qi20Bk"
      }
    },
    {
      "cell_type": "markdown",
      "source": [
        "### Content\n",
        "\n",
        "\n",
        "\n",
        "*   Importing necessary libraries: NumPy, pandas, SciPy, Matplotlib, and seaborn.\n",
        "\n",
        "* Loading the Data: The data is loaded from an Excel file into a pandas DataFrame.\n",
        "\n",
        "* Data Preprocessing: The data is checked for null values, duplicates and data types.\n",
        "\n",
        "* Feature Scaling: The 'Preliminary Score' and 'CourseGrade' columns are normalized to a range of 0 to 1 using MinMaxScaler module in scickit learn.\n",
        "\n",
        "* Experiment 1 - Regression: A Linear Regression model is trained and validated using cross-validation. The model's performance is evaluated using Mean Squared Error (MSE) and R².\n",
        "\n",
        "* Experiment 2 - Multi-class Classification: The 'CourseGrade' is converted to categorical variables (A, B, C, D, F). A Decision Tree Classifier is trained and tested. The model's performance is evaluated using accuracy, confusion matrix, and F1 score.\n",
        "\n",
        "* Experiment 3 - Binary Classification: The 'CourseGrade' is further simplified to binary categories (Pass, Fail). A Decision Tree Classifier is trained and tested. The model's performance is evaluated using accuracy, confusion matrix, and F1 score.\n",
        "\n",
        "* Discussion and Conclusion: The notebook concludes with a discussion comparing the three experiments and a conclusion summarizing the experiments and results\n",
        "  \n",
        "\n"
      ],
      "metadata": {
        "id": "6GG2GF_V22_9"
      }
    },
    {
      "cell_type": "code",
      "source": [
        "# Importing necessary libraries and modules for analysis\n",
        "\n",
        "import numpy as np\n",
        "import pandas as pd\n",
        "import scipy as sc\n",
        "import matplotlib.pyplot as plt\n",
        "import seaborn as sns\n"
      ],
      "metadata": {
        "id": "hAzz4KRVgMbG"
      },
      "execution_count": null,
      "outputs": []
    },
    {
      "cell_type": "markdown",
      "source": [
        "### Step 1: Loading the data"
      ],
      "metadata": {
        "id": "C4J2z2vpAkqb"
      }
    },
    {
      "cell_type": "code",
      "execution_count": null,
      "metadata": {
        "id": "mRJrEcy6_pUg",
        "colab": {
          "base_uri": "https://localhost:8080/",
          "height": 206
        },
        "outputId": "e590fc22-11c5-4ba4-bd15-ecc6488ca500"
      },
      "outputs": [
        {
          "output_type": "execute_result",
          "data": {
            "text/plain": [
              "   StudentID  Preliminary Score  CourseGrade\n",
              "0    1003261                 26         2.67\n",
              "1    1013794                 28         2.67\n",
              "2    1017414                 29         4.00\n",
              "3    1025667                 22         3.67\n",
              "4    1074837                 26         4.00"
            ],
            "text/html": [
              "\n",
              "  <div id=\"df-7accecfe-1027-42b3-af27-e8de96ff03b9\">\n",
              "    <div class=\"colab-df-container\">\n",
              "      <div>\n",
              "<style scoped>\n",
              "    .dataframe tbody tr th:only-of-type {\n",
              "        vertical-align: middle;\n",
              "    }\n",
              "\n",
              "    .dataframe tbody tr th {\n",
              "        vertical-align: top;\n",
              "    }\n",
              "\n",
              "    .dataframe thead th {\n",
              "        text-align: right;\n",
              "    }\n",
              "</style>\n",
              "<table border=\"1\" class=\"dataframe\">\n",
              "  <thead>\n",
              "    <tr style=\"text-align: right;\">\n",
              "      <th></th>\n",
              "      <th>StudentID</th>\n",
              "      <th>Preliminary Score</th>\n",
              "      <th>CourseGrade</th>\n",
              "    </tr>\n",
              "  </thead>\n",
              "  <tbody>\n",
              "    <tr>\n",
              "      <th>0</th>\n",
              "      <td>1003261</td>\n",
              "      <td>26</td>\n",
              "      <td>2.67</td>\n",
              "    </tr>\n",
              "    <tr>\n",
              "      <th>1</th>\n",
              "      <td>1013794</td>\n",
              "      <td>28</td>\n",
              "      <td>2.67</td>\n",
              "    </tr>\n",
              "    <tr>\n",
              "      <th>2</th>\n",
              "      <td>1017414</td>\n",
              "      <td>29</td>\n",
              "      <td>4.00</td>\n",
              "    </tr>\n",
              "    <tr>\n",
              "      <th>3</th>\n",
              "      <td>1025667</td>\n",
              "      <td>22</td>\n",
              "      <td>3.67</td>\n",
              "    </tr>\n",
              "    <tr>\n",
              "      <th>4</th>\n",
              "      <td>1074837</td>\n",
              "      <td>26</td>\n",
              "      <td>4.00</td>\n",
              "    </tr>\n",
              "  </tbody>\n",
              "</table>\n",
              "</div>\n",
              "      <button class=\"colab-df-convert\" onclick=\"convertToInteractive('df-7accecfe-1027-42b3-af27-e8de96ff03b9')\"\n",
              "              title=\"Convert this dataframe to an interactive table.\"\n",
              "              style=\"display:none;\">\n",
              "        \n",
              "  <svg xmlns=\"http://www.w3.org/2000/svg\" height=\"24px\"viewBox=\"0 0 24 24\"\n",
              "       width=\"24px\">\n",
              "    <path d=\"M0 0h24v24H0V0z\" fill=\"none\"/>\n",
              "    <path d=\"M18.56 5.44l.94 2.06.94-2.06 2.06-.94-2.06-.94-.94-2.06-.94 2.06-2.06.94zm-11 1L8.5 8.5l.94-2.06 2.06-.94-2.06-.94L8.5 2.5l-.94 2.06-2.06.94zm10 10l.94 2.06.94-2.06 2.06-.94-2.06-.94-.94-2.06-.94 2.06-2.06.94z\"/><path d=\"M17.41 7.96l-1.37-1.37c-.4-.4-.92-.59-1.43-.59-.52 0-1.04.2-1.43.59L10.3 9.45l-7.72 7.72c-.78.78-.78 2.05 0 2.83L4 21.41c.39.39.9.59 1.41.59.51 0 1.02-.2 1.41-.59l7.78-7.78 2.81-2.81c.8-.78.8-2.07 0-2.86zM5.41 20L4 18.59l7.72-7.72 1.47 1.35L5.41 20z\"/>\n",
              "  </svg>\n",
              "      </button>\n",
              "      \n",
              "  <style>\n",
              "    .colab-df-container {\n",
              "      display:flex;\n",
              "      flex-wrap:wrap;\n",
              "      gap: 12px;\n",
              "    }\n",
              "\n",
              "    .colab-df-convert {\n",
              "      background-color: #E8F0FE;\n",
              "      border: none;\n",
              "      border-radius: 50%;\n",
              "      cursor: pointer;\n",
              "      display: none;\n",
              "      fill: #1967D2;\n",
              "      height: 32px;\n",
              "      padding: 0 0 0 0;\n",
              "      width: 32px;\n",
              "    }\n",
              "\n",
              "    .colab-df-convert:hover {\n",
              "      background-color: #E2EBFA;\n",
              "      box-shadow: 0px 1px 2px rgba(60, 64, 67, 0.3), 0px 1px 3px 1px rgba(60, 64, 67, 0.15);\n",
              "      fill: #174EA6;\n",
              "    }\n",
              "\n",
              "    [theme=dark] .colab-df-convert {\n",
              "      background-color: #3B4455;\n",
              "      fill: #D2E3FC;\n",
              "    }\n",
              "\n",
              "    [theme=dark] .colab-df-convert:hover {\n",
              "      background-color: #434B5C;\n",
              "      box-shadow: 0px 1px 3px 1px rgba(0, 0, 0, 0.15);\n",
              "      filter: drop-shadow(0px 1px 2px rgba(0, 0, 0, 0.3));\n",
              "      fill: #FFFFFF;\n",
              "    }\n",
              "  </style>\n",
              "\n",
              "      <script>\n",
              "        const buttonEl =\n",
              "          document.querySelector('#df-7accecfe-1027-42b3-af27-e8de96ff03b9 button.colab-df-convert');\n",
              "        buttonEl.style.display =\n",
              "          google.colab.kernel.accessAllowed ? 'block' : 'none';\n",
              "\n",
              "        async function convertToInteractive(key) {\n",
              "          const element = document.querySelector('#df-7accecfe-1027-42b3-af27-e8de96ff03b9');\n",
              "          const dataTable =\n",
              "            await google.colab.kernel.invokeFunction('convertToInteractive',\n",
              "                                                     [key], {});\n",
              "          if (!dataTable) return;\n",
              "\n",
              "          const docLinkHtml = 'Like what you see? Visit the ' +\n",
              "            '<a target=\"_blank\" href=https://colab.research.google.com/notebooks/data_table.ipynb>data table notebook</a>'\n",
              "            + ' to learn more about interactive tables.';\n",
              "          element.innerHTML = '';\n",
              "          dataTable['output_type'] = 'display_data';\n",
              "          await google.colab.output.renderOutput(dataTable, element);\n",
              "          const docLink = document.createElement('div');\n",
              "          docLink.innerHTML = docLinkHtml;\n",
              "          element.appendChild(docLink);\n",
              "        }\n",
              "      </script>\n",
              "    </div>\n",
              "  </div>\n",
              "  "
            ]
          },
          "metadata": {},
          "execution_count": 237
        }
      ],
      "source": [
        "# Loading the data\n",
        "score_df = pd.read_excel(\"/content/drive/MyDrive/Data mining UHCL SU23/Assignment 2 data/PreliminaryScoreResults.xlsx\", header= [0])\n",
        "\n",
        "#Displaying the data\n",
        "score_df.head()"
      ]
    },
    {
      "cell_type": "markdown",
      "source": [
        "### Step 2: Pre-processing the data"
      ],
      "metadata": {
        "id": "vhwjtT37ArlD"
      }
    },
    {
      "cell_type": "code",
      "source": [
        "#Checking for null vlaues\n",
        "print(f'The coloumns with number of null values\\n{score_df.isnull().sum()}')\n",
        "\n",
        "#Checking for duplicates in studentID\n",
        "duplicates = score_df.duplicated(subset='StudentID')\n",
        "print(f'\\nThe number of coloumns with duplicate values: {duplicates.sum()}')"
      ],
      "metadata": {
        "colab": {
          "base_uri": "https://localhost:8080/"
        },
        "id": "ljmwRyXPg3Za",
        "outputId": "199c81df-fd4a-409c-b0e0-3f21a855cdb8"
      },
      "execution_count": null,
      "outputs": [
        {
          "output_type": "stream",
          "name": "stdout",
          "text": [
            "The coloumns with number of null values\n",
            "StudentID            0\n",
            "Preliminary Score    0\n",
            "CourseGrade          0\n",
            "dtype: int64\n",
            "\n",
            "The number of coloumns with duplicate values: 0\n"
          ]
        }
      ]
    },
    {
      "cell_type": "code",
      "source": [
        "# Printing and verifying data types of dataframe\n",
        "score_df.dtypes"
      ],
      "metadata": {
        "colab": {
          "base_uri": "https://localhost:8080/"
        },
        "id": "n2PxMDnIg-2Y",
        "outputId": "313d6096-fb69-4e35-b702-b6c77d38c418"
      },
      "execution_count": null,
      "outputs": [
        {
          "output_type": "execute_result",
          "data": {
            "text/plain": [
              "StudentID              int64\n",
              "Preliminary Score      int64\n",
              "CourseGrade          float64\n",
              "dtype: object"
            ]
          },
          "metadata": {},
          "execution_count": 239
        }
      ]
    },
    {
      "cell_type": "markdown",
      "source": [
        "Feature Scaling: Normalizing the data to standard range 0  to 1"
      ],
      "metadata": {
        "id": "NyGKnXXBHfsq"
      }
    },
    {
      "cell_type": "code",
      "source": [
        "import pandas as pd\n",
        "from sklearn.preprocessing import MinMaxScaler\n",
        "\n",
        "# normalizing data to 0 and 1 using minmaxscaler module\n",
        "scaler = MinMaxScaler()\n",
        "\n",
        "score_df[['prelim_score_normal', 'course_grade_normal']] = scaler.fit_transform(score_df[['Preliminary Score', 'CourseGrade']])\n",
        "\n",
        "score_df.head()\n"
      ],
      "metadata": {
        "colab": {
          "base_uri": "https://localhost:8080/",
          "height": 206
        },
        "id": "dL2BWFvrHe39",
        "outputId": "86f63e78-f3de-423c-ce83-10e4c77c7ef1"
      },
      "execution_count": null,
      "outputs": [
        {
          "output_type": "execute_result",
          "data": {
            "text/plain": [
              "   StudentID  Preliminary Score  CourseGrade  prelim_score_normal  \\\n",
              "0    1003261                 26         2.67                 0.85   \n",
              "1    1013794                 28         2.67                 0.95   \n",
              "2    1017414                 29         4.00                 1.00   \n",
              "3    1025667                 22         3.67                 0.65   \n",
              "4    1074837                 26         4.00                 0.85   \n",
              "\n",
              "   course_grade_normal  \n",
              "0               0.6675  \n",
              "1               0.6675  \n",
              "2               1.0000  \n",
              "3               0.9175  \n",
              "4               1.0000  "
            ],
            "text/html": [
              "\n",
              "  <div id=\"df-850781cc-e450-4ff7-88a8-b89904c94c60\">\n",
              "    <div class=\"colab-df-container\">\n",
              "      <div>\n",
              "<style scoped>\n",
              "    .dataframe tbody tr th:only-of-type {\n",
              "        vertical-align: middle;\n",
              "    }\n",
              "\n",
              "    .dataframe tbody tr th {\n",
              "        vertical-align: top;\n",
              "    }\n",
              "\n",
              "    .dataframe thead th {\n",
              "        text-align: right;\n",
              "    }\n",
              "</style>\n",
              "<table border=\"1\" class=\"dataframe\">\n",
              "  <thead>\n",
              "    <tr style=\"text-align: right;\">\n",
              "      <th></th>\n",
              "      <th>StudentID</th>\n",
              "      <th>Preliminary Score</th>\n",
              "      <th>CourseGrade</th>\n",
              "      <th>prelim_score_normal</th>\n",
              "      <th>course_grade_normal</th>\n",
              "    </tr>\n",
              "  </thead>\n",
              "  <tbody>\n",
              "    <tr>\n",
              "      <th>0</th>\n",
              "      <td>1003261</td>\n",
              "      <td>26</td>\n",
              "      <td>2.67</td>\n",
              "      <td>0.85</td>\n",
              "      <td>0.6675</td>\n",
              "    </tr>\n",
              "    <tr>\n",
              "      <th>1</th>\n",
              "      <td>1013794</td>\n",
              "      <td>28</td>\n",
              "      <td>2.67</td>\n",
              "      <td>0.95</td>\n",
              "      <td>0.6675</td>\n",
              "    </tr>\n",
              "    <tr>\n",
              "      <th>2</th>\n",
              "      <td>1017414</td>\n",
              "      <td>29</td>\n",
              "      <td>4.00</td>\n",
              "      <td>1.00</td>\n",
              "      <td>1.0000</td>\n",
              "    </tr>\n",
              "    <tr>\n",
              "      <th>3</th>\n",
              "      <td>1025667</td>\n",
              "      <td>22</td>\n",
              "      <td>3.67</td>\n",
              "      <td>0.65</td>\n",
              "      <td>0.9175</td>\n",
              "    </tr>\n",
              "    <tr>\n",
              "      <th>4</th>\n",
              "      <td>1074837</td>\n",
              "      <td>26</td>\n",
              "      <td>4.00</td>\n",
              "      <td>0.85</td>\n",
              "      <td>1.0000</td>\n",
              "    </tr>\n",
              "  </tbody>\n",
              "</table>\n",
              "</div>\n",
              "      <button class=\"colab-df-convert\" onclick=\"convertToInteractive('df-850781cc-e450-4ff7-88a8-b89904c94c60')\"\n",
              "              title=\"Convert this dataframe to an interactive table.\"\n",
              "              style=\"display:none;\">\n",
              "        \n",
              "  <svg xmlns=\"http://www.w3.org/2000/svg\" height=\"24px\"viewBox=\"0 0 24 24\"\n",
              "       width=\"24px\">\n",
              "    <path d=\"M0 0h24v24H0V0z\" fill=\"none\"/>\n",
              "    <path d=\"M18.56 5.44l.94 2.06.94-2.06 2.06-.94-2.06-.94-.94-2.06-.94 2.06-2.06.94zm-11 1L8.5 8.5l.94-2.06 2.06-.94-2.06-.94L8.5 2.5l-.94 2.06-2.06.94zm10 10l.94 2.06.94-2.06 2.06-.94-2.06-.94-.94-2.06-.94 2.06-2.06.94z\"/><path d=\"M17.41 7.96l-1.37-1.37c-.4-.4-.92-.59-1.43-.59-.52 0-1.04.2-1.43.59L10.3 9.45l-7.72 7.72c-.78.78-.78 2.05 0 2.83L4 21.41c.39.39.9.59 1.41.59.51 0 1.02-.2 1.41-.59l7.78-7.78 2.81-2.81c.8-.78.8-2.07 0-2.86zM5.41 20L4 18.59l7.72-7.72 1.47 1.35L5.41 20z\"/>\n",
              "  </svg>\n",
              "      </button>\n",
              "      \n",
              "  <style>\n",
              "    .colab-df-container {\n",
              "      display:flex;\n",
              "      flex-wrap:wrap;\n",
              "      gap: 12px;\n",
              "    }\n",
              "\n",
              "    .colab-df-convert {\n",
              "      background-color: #E8F0FE;\n",
              "      border: none;\n",
              "      border-radius: 50%;\n",
              "      cursor: pointer;\n",
              "      display: none;\n",
              "      fill: #1967D2;\n",
              "      height: 32px;\n",
              "      padding: 0 0 0 0;\n",
              "      width: 32px;\n",
              "    }\n",
              "\n",
              "    .colab-df-convert:hover {\n",
              "      background-color: #E2EBFA;\n",
              "      box-shadow: 0px 1px 2px rgba(60, 64, 67, 0.3), 0px 1px 3px 1px rgba(60, 64, 67, 0.15);\n",
              "      fill: #174EA6;\n",
              "    }\n",
              "\n",
              "    [theme=dark] .colab-df-convert {\n",
              "      background-color: #3B4455;\n",
              "      fill: #D2E3FC;\n",
              "    }\n",
              "\n",
              "    [theme=dark] .colab-df-convert:hover {\n",
              "      background-color: #434B5C;\n",
              "      box-shadow: 0px 1px 3px 1px rgba(0, 0, 0, 0.15);\n",
              "      filter: drop-shadow(0px 1px 2px rgba(0, 0, 0, 0.3));\n",
              "      fill: #FFFFFF;\n",
              "    }\n",
              "  </style>\n",
              "\n",
              "      <script>\n",
              "        const buttonEl =\n",
              "          document.querySelector('#df-850781cc-e450-4ff7-88a8-b89904c94c60 button.colab-df-convert');\n",
              "        buttonEl.style.display =\n",
              "          google.colab.kernel.accessAllowed ? 'block' : 'none';\n",
              "\n",
              "        async function convertToInteractive(key) {\n",
              "          const element = document.querySelector('#df-850781cc-e450-4ff7-88a8-b89904c94c60');\n",
              "          const dataTable =\n",
              "            await google.colab.kernel.invokeFunction('convertToInteractive',\n",
              "                                                     [key], {});\n",
              "          if (!dataTable) return;\n",
              "\n",
              "          const docLinkHtml = 'Like what you see? Visit the ' +\n",
              "            '<a target=\"_blank\" href=https://colab.research.google.com/notebooks/data_table.ipynb>data table notebook</a>'\n",
              "            + ' to learn more about interactive tables.';\n",
              "          element.innerHTML = '';\n",
              "          dataTable['output_type'] = 'display_data';\n",
              "          await google.colab.output.renderOutput(dataTable, element);\n",
              "          const docLink = document.createElement('div');\n",
              "          docLink.innerHTML = docLinkHtml;\n",
              "          element.appendChild(docLink);\n",
              "        }\n",
              "      </script>\n",
              "    </div>\n",
              "  </div>\n",
              "  "
            ]
          },
          "metadata": {},
          "execution_count": 240
        }
      ]
    },
    {
      "cell_type": "code",
      "source": [
        "# filtering normalized columns from the dataframe for modeling\n",
        "model_df = score_df[['prelim_score_normal', 'course_grade_normal']]\n",
        "model_df.head()"
      ],
      "metadata": {
        "colab": {
          "base_uri": "https://localhost:8080/",
          "height": 206
        },
        "id": "3tMujWMCVcd0",
        "outputId": "dff82c00-7429-4169-c099-901ed5db06c0"
      },
      "execution_count": null,
      "outputs": [
        {
          "output_type": "execute_result",
          "data": {
            "text/plain": [
              "   prelim_score_normal  course_grade_normal\n",
              "0                 0.85               0.6675\n",
              "1                 0.95               0.6675\n",
              "2                 1.00               1.0000\n",
              "3                 0.65               0.9175\n",
              "4                 0.85               1.0000"
            ],
            "text/html": [
              "\n",
              "  <div id=\"df-cb45d538-485d-432d-a510-d1c4796860a9\">\n",
              "    <div class=\"colab-df-container\">\n",
              "      <div>\n",
              "<style scoped>\n",
              "    .dataframe tbody tr th:only-of-type {\n",
              "        vertical-align: middle;\n",
              "    }\n",
              "\n",
              "    .dataframe tbody tr th {\n",
              "        vertical-align: top;\n",
              "    }\n",
              "\n",
              "    .dataframe thead th {\n",
              "        text-align: right;\n",
              "    }\n",
              "</style>\n",
              "<table border=\"1\" class=\"dataframe\">\n",
              "  <thead>\n",
              "    <tr style=\"text-align: right;\">\n",
              "      <th></th>\n",
              "      <th>prelim_score_normal</th>\n",
              "      <th>course_grade_normal</th>\n",
              "    </tr>\n",
              "  </thead>\n",
              "  <tbody>\n",
              "    <tr>\n",
              "      <th>0</th>\n",
              "      <td>0.85</td>\n",
              "      <td>0.6675</td>\n",
              "    </tr>\n",
              "    <tr>\n",
              "      <th>1</th>\n",
              "      <td>0.95</td>\n",
              "      <td>0.6675</td>\n",
              "    </tr>\n",
              "    <tr>\n",
              "      <th>2</th>\n",
              "      <td>1.00</td>\n",
              "      <td>1.0000</td>\n",
              "    </tr>\n",
              "    <tr>\n",
              "      <th>3</th>\n",
              "      <td>0.65</td>\n",
              "      <td>0.9175</td>\n",
              "    </tr>\n",
              "    <tr>\n",
              "      <th>4</th>\n",
              "      <td>0.85</td>\n",
              "      <td>1.0000</td>\n",
              "    </tr>\n",
              "  </tbody>\n",
              "</table>\n",
              "</div>\n",
              "      <button class=\"colab-df-convert\" onclick=\"convertToInteractive('df-cb45d538-485d-432d-a510-d1c4796860a9')\"\n",
              "              title=\"Convert this dataframe to an interactive table.\"\n",
              "              style=\"display:none;\">\n",
              "        \n",
              "  <svg xmlns=\"http://www.w3.org/2000/svg\" height=\"24px\"viewBox=\"0 0 24 24\"\n",
              "       width=\"24px\">\n",
              "    <path d=\"M0 0h24v24H0V0z\" fill=\"none\"/>\n",
              "    <path d=\"M18.56 5.44l.94 2.06.94-2.06 2.06-.94-2.06-.94-.94-2.06-.94 2.06-2.06.94zm-11 1L8.5 8.5l.94-2.06 2.06-.94-2.06-.94L8.5 2.5l-.94 2.06-2.06.94zm10 10l.94 2.06.94-2.06 2.06-.94-2.06-.94-.94-2.06-.94 2.06-2.06.94z\"/><path d=\"M17.41 7.96l-1.37-1.37c-.4-.4-.92-.59-1.43-.59-.52 0-1.04.2-1.43.59L10.3 9.45l-7.72 7.72c-.78.78-.78 2.05 0 2.83L4 21.41c.39.39.9.59 1.41.59.51 0 1.02-.2 1.41-.59l7.78-7.78 2.81-2.81c.8-.78.8-2.07 0-2.86zM5.41 20L4 18.59l7.72-7.72 1.47 1.35L5.41 20z\"/>\n",
              "  </svg>\n",
              "      </button>\n",
              "      \n",
              "  <style>\n",
              "    .colab-df-container {\n",
              "      display:flex;\n",
              "      flex-wrap:wrap;\n",
              "      gap: 12px;\n",
              "    }\n",
              "\n",
              "    .colab-df-convert {\n",
              "      background-color: #E8F0FE;\n",
              "      border: none;\n",
              "      border-radius: 50%;\n",
              "      cursor: pointer;\n",
              "      display: none;\n",
              "      fill: #1967D2;\n",
              "      height: 32px;\n",
              "      padding: 0 0 0 0;\n",
              "      width: 32px;\n",
              "    }\n",
              "\n",
              "    .colab-df-convert:hover {\n",
              "      background-color: #E2EBFA;\n",
              "      box-shadow: 0px 1px 2px rgba(60, 64, 67, 0.3), 0px 1px 3px 1px rgba(60, 64, 67, 0.15);\n",
              "      fill: #174EA6;\n",
              "    }\n",
              "\n",
              "    [theme=dark] .colab-df-convert {\n",
              "      background-color: #3B4455;\n",
              "      fill: #D2E3FC;\n",
              "    }\n",
              "\n",
              "    [theme=dark] .colab-df-convert:hover {\n",
              "      background-color: #434B5C;\n",
              "      box-shadow: 0px 1px 3px 1px rgba(0, 0, 0, 0.15);\n",
              "      filter: drop-shadow(0px 1px 2px rgba(0, 0, 0, 0.3));\n",
              "      fill: #FFFFFF;\n",
              "    }\n",
              "  </style>\n",
              "\n",
              "      <script>\n",
              "        const buttonEl =\n",
              "          document.querySelector('#df-cb45d538-485d-432d-a510-d1c4796860a9 button.colab-df-convert');\n",
              "        buttonEl.style.display =\n",
              "          google.colab.kernel.accessAllowed ? 'block' : 'none';\n",
              "\n",
              "        async function convertToInteractive(key) {\n",
              "          const element = document.querySelector('#df-cb45d538-485d-432d-a510-d1c4796860a9');\n",
              "          const dataTable =\n",
              "            await google.colab.kernel.invokeFunction('convertToInteractive',\n",
              "                                                     [key], {});\n",
              "          if (!dataTable) return;\n",
              "\n",
              "          const docLinkHtml = 'Like what you see? Visit the ' +\n",
              "            '<a target=\"_blank\" href=https://colab.research.google.com/notebooks/data_table.ipynb>data table notebook</a>'\n",
              "            + ' to learn more about interactive tables.';\n",
              "          element.innerHTML = '';\n",
              "          dataTable['output_type'] = 'display_data';\n",
              "          await google.colab.output.renderOutput(dataTable, element);\n",
              "          const docLink = document.createElement('div');\n",
              "          docLink.innerHTML = docLinkHtml;\n",
              "          element.appendChild(docLink);\n",
              "        }\n",
              "      </script>\n",
              "    </div>\n",
              "  </div>\n",
              "  "
            ]
          },
          "metadata": {},
          "execution_count": 241
        }
      ]
    },
    {
      "cell_type": "markdown",
      "source": [
        "Splitting the data into training (60%), cross-validation (20%), and testing (20%)"
      ],
      "metadata": {
        "id": "qpIbp5pJVWag"
      }
    },
    {
      "cell_type": "code",
      "source": [
        "#importing necessary modules\n",
        "from sklearn.model_selection import train_test_split\n",
        "\n",
        "# Splitting the data into training (60%) and the rest (40%)\n",
        "df_train, df_rest = train_test_split(model_df, test_size=0.4, random_state=42)\n",
        "\n",
        "# Splitting the rest into validation (50% of the rest, which is 20% of the total) and testing (the remaining 20%)\n",
        "df_val, df_test = train_test_split(df_rest, test_size=0.5, random_state=42)"
      ],
      "metadata": {
        "id": "GV8LHxmqVXHq"
      },
      "execution_count": null,
      "outputs": []
    },
    {
      "cell_type": "markdown",
      "source": [
        "# Experiment 1\n",
        "\n",
        "The objective of this experiment is to find how well the preliminary score can predict the final course grade. Since,  the final course grade in the data is a continuous value (ranging from 0 to 4), treating this as a regression problem in Experiment 1 seems appropriate to predict the exact final course grade as a continuous value based on the preliminary score"
      ],
      "metadata": {
        "id": "-EbL5phAE2zy"
      }
    },
    {
      "cell_type": "markdown",
      "source": [
        "Step 1: Training the model"
      ],
      "metadata": {
        "id": "PA2qbE9YYHBL"
      }
    },
    {
      "cell_type": "code",
      "source": [
        "from sklearn.linear_model import LinearRegression\n",
        "from sklearn.metrics import mean_squared_error, r2_score\n",
        "\n",
        "# Splitting the data into features (x) and target (y) for each set\n",
        "x_train = df_train[['prelim_score_normal']]\n",
        "y_train = df_train['course_grade_normal']\n",
        "\n",
        "x_val = df_val[['prelim_score_normal']]\n",
        "y_val = df_val['course_grade_normal']\n",
        "\n",
        "x_test = df_test[['prelim_score_normal']]\n",
        "y_test = df_test['course_grade_normal']\n",
        "\n",
        "# Assigning the Linear Regression model\n",
        "model = LinearRegression()\n",
        "\n",
        "# Fit the model to the training data\n",
        "model.fit(x_train, y_train)"
      ],
      "metadata": {
        "colab": {
          "base_uri": "https://localhost:8080/",
          "height": 74
        },
        "id": "5BRuUjx0Beno",
        "outputId": "d01f1a2a-fe7e-40da-f66b-d87ed24f4d80"
      },
      "execution_count": null,
      "outputs": [
        {
          "output_type": "execute_result",
          "data": {
            "text/plain": [
              "LinearRegression()"
            ],
            "text/html": [
              "<style>#sk-container-id-14 {color: black;background-color: white;}#sk-container-id-14 pre{padding: 0;}#sk-container-id-14 div.sk-toggleable {background-color: white;}#sk-container-id-14 label.sk-toggleable__label {cursor: pointer;display: block;width: 100%;margin-bottom: 0;padding: 0.3em;box-sizing: border-box;text-align: center;}#sk-container-id-14 label.sk-toggleable__label-arrow:before {content: \"▸\";float: left;margin-right: 0.25em;color: #696969;}#sk-container-id-14 label.sk-toggleable__label-arrow:hover:before {color: black;}#sk-container-id-14 div.sk-estimator:hover label.sk-toggleable__label-arrow:before {color: black;}#sk-container-id-14 div.sk-toggleable__content {max-height: 0;max-width: 0;overflow: hidden;text-align: left;background-color: #f0f8ff;}#sk-container-id-14 div.sk-toggleable__content pre {margin: 0.2em;color: black;border-radius: 0.25em;background-color: #f0f8ff;}#sk-container-id-14 input.sk-toggleable__control:checked~div.sk-toggleable__content {max-height: 200px;max-width: 100%;overflow: auto;}#sk-container-id-14 input.sk-toggleable__control:checked~label.sk-toggleable__label-arrow:before {content: \"▾\";}#sk-container-id-14 div.sk-estimator input.sk-toggleable__control:checked~label.sk-toggleable__label {background-color: #d4ebff;}#sk-container-id-14 div.sk-label input.sk-toggleable__control:checked~label.sk-toggleable__label {background-color: #d4ebff;}#sk-container-id-14 input.sk-hidden--visually {border: 0;clip: rect(1px 1px 1px 1px);clip: rect(1px, 1px, 1px, 1px);height: 1px;margin: -1px;overflow: hidden;padding: 0;position: absolute;width: 1px;}#sk-container-id-14 div.sk-estimator {font-family: monospace;background-color: #f0f8ff;border: 1px dotted black;border-radius: 0.25em;box-sizing: border-box;margin-bottom: 0.5em;}#sk-container-id-14 div.sk-estimator:hover {background-color: #d4ebff;}#sk-container-id-14 div.sk-parallel-item::after {content: \"\";width: 100%;border-bottom: 1px solid gray;flex-grow: 1;}#sk-container-id-14 div.sk-label:hover label.sk-toggleable__label {background-color: #d4ebff;}#sk-container-id-14 div.sk-serial::before {content: \"\";position: absolute;border-left: 1px solid gray;box-sizing: border-box;top: 0;bottom: 0;left: 50%;z-index: 0;}#sk-container-id-14 div.sk-serial {display: flex;flex-direction: column;align-items: center;background-color: white;padding-right: 0.2em;padding-left: 0.2em;position: relative;}#sk-container-id-14 div.sk-item {position: relative;z-index: 1;}#sk-container-id-14 div.sk-parallel {display: flex;align-items: stretch;justify-content: center;background-color: white;position: relative;}#sk-container-id-14 div.sk-item::before, #sk-container-id-14 div.sk-parallel-item::before {content: \"\";position: absolute;border-left: 1px solid gray;box-sizing: border-box;top: 0;bottom: 0;left: 50%;z-index: -1;}#sk-container-id-14 div.sk-parallel-item {display: flex;flex-direction: column;z-index: 1;position: relative;background-color: white;}#sk-container-id-14 div.sk-parallel-item:first-child::after {align-self: flex-end;width: 50%;}#sk-container-id-14 div.sk-parallel-item:last-child::after {align-self: flex-start;width: 50%;}#sk-container-id-14 div.sk-parallel-item:only-child::after {width: 0;}#sk-container-id-14 div.sk-dashed-wrapped {border: 1px dashed gray;margin: 0 0.4em 0.5em 0.4em;box-sizing: border-box;padding-bottom: 0.4em;background-color: white;}#sk-container-id-14 div.sk-label label {font-family: monospace;font-weight: bold;display: inline-block;line-height: 1.2em;}#sk-container-id-14 div.sk-label-container {text-align: center;}#sk-container-id-14 div.sk-container {/* jupyter's `normalize.less` sets `[hidden] { display: none; }` but bootstrap.min.css set `[hidden] { display: none !important; }` so we also need the `!important` here to be able to override the default hidden behavior on the sphinx rendered scikit-learn.org. See: https://github.com/scikit-learn/scikit-learn/issues/21755 */display: inline-block !important;position: relative;}#sk-container-id-14 div.sk-text-repr-fallback {display: none;}</style><div id=\"sk-container-id-14\" class=\"sk-top-container\"><div class=\"sk-text-repr-fallback\"><pre>LinearRegression()</pre><b>In a Jupyter environment, please rerun this cell to show the HTML representation or trust the notebook. <br />On GitHub, the HTML representation is unable to render, please try loading this page with nbviewer.org.</b></div><div class=\"sk-container\" hidden><div class=\"sk-item\"><div class=\"sk-estimator sk-toggleable\"><input class=\"sk-toggleable__control sk-hidden--visually\" id=\"sk-estimator-id-14\" type=\"checkbox\" checked><label for=\"sk-estimator-id-14\" class=\"sk-toggleable__label sk-toggleable__label-arrow\">LinearRegression</label><div class=\"sk-toggleable__content\"><pre>LinearRegression()</pre></div></div></div></div></div>"
            ]
          },
          "metadata": {},
          "execution_count": 243
        }
      ]
    },
    {
      "cell_type": "markdown",
      "source": [
        "Step 3: Testing and evaluating the model"
      ],
      "metadata": {
        "id": "-zxBRAmSW6kc"
      }
    },
    {
      "cell_type": "code",
      "source": [
        "# Make predictions on the testing data\n",
        "y_test_pred = model.predict(x_test)\n",
        "\n",
        "# Evaluating the model on testing data\n",
        "mse_test = mean_squared_error(y_test, y_test_pred)\n",
        "print(f\"Test Mean Squared Error: {mse_test}\")\n",
        "\n",
        "# calculating r2\n",
        "r2_test = r2_score(y_test, y_test_pred)\n",
        "\n",
        "print(f\"Test R Squared Error: {r2_test}\")"
      ],
      "metadata": {
        "colab": {
          "base_uri": "https://localhost:8080/"
        },
        "id": "sSq0UuE3WHXd",
        "outputId": "8b0bee23-d4da-49e0-d7c4-44efcc7f6840"
      },
      "execution_count": null,
      "outputs": [
        {
          "output_type": "stream",
          "name": "stdout",
          "text": [
            "Test Mean Squared Error: 0.06862914852920993\n",
            "Test R Squared Error: 0.21226623461136263\n"
          ]
        }
      ]
    },
    {
      "cell_type": "markdown",
      "source": [
        "After following proper preprocessing, testing and training, the model's MSE of 0.0686 being low is good and indicates that on average the model's predictions are somewhat close to the actual values. However, R² of 1 indicates a perfect fit, so R² of 0.212 is somewhat low and suggests that the model may not be capturing a lot of the variance in the data."
      ],
      "metadata": {
        "id": "HkU44ZeLh_m9"
      }
    },
    {
      "cell_type": "markdown",
      "source": [
        "# Experiment 2\n",
        "The objective of this experiment is to find how well the preliminary score can predict the final course grade after converting the final course grade to categorical variables A,B,C,D. Since the target variable is categorical it could be considered as a classification-type problem.\n"
      ],
      "metadata": {
        "id": "SG7uzmS4jGQ7"
      }
    },
    {
      "cell_type": "markdown",
      "source": [
        "### Step 1 : Preprocessing the dataframe"
      ],
      "metadata": {
        "id": "HMBegYwTjt3d"
      }
    },
    {
      "cell_type": "code",
      "source": [
        "# Defining the thresholds for letter grades\n",
        "thresholds = [0, 1, 1.5, 2.5, 3.5, 4.5]  # Including an additional threshold value to match the number of letter grades\n",
        "letter_grades = ['F', 'D', 'C', 'B', 'A']\n",
        "\n",
        "# Create a new column 'letter_grade' using pd.cut\n",
        "score_df['letter_grade'] = pd.cut(score_df['CourseGrade'], bins=thresholds, labels=letter_grades, right=False)\n",
        "\n",
        "# Dropping the normalized coloumns\n",
        "columns_to_drop = ['prelim_score_normal',\t'course_grade_normal']\n",
        "score_df = score_df.drop(columns_to_drop, axis=1)\n",
        "# Displaying the dataframe to verify the changes\n",
        "print(score_df)\n"
      ],
      "metadata": {
        "colab": {
          "base_uri": "https://localhost:8080/"
        },
        "id": "AmPQnKsVW6Ce",
        "outputId": "fea6c4ff-ae65-4b5a-a881-be3e3ad783a5"
      },
      "execution_count": null,
      "outputs": [
        {
          "output_type": "stream",
          "name": "stdout",
          "text": [
            "    StudentID  Preliminary Score  CourseGrade letter_grade\n",
            "0     1003261                 26         2.67            B\n",
            "1     1013794                 28         2.67            B\n",
            "2     1017414                 29         4.00            A\n",
            "3     1025667                 22         3.67            A\n",
            "4     1074837                 26         4.00            A\n",
            "..        ...                ...          ...          ...\n",
            "58    1927306                 27         4.00            A\n",
            "59    1945122                 27         2.00            C\n",
            "60    1969949                 22         4.00            A\n",
            "61    1977001                 19         2.33            C\n",
            "62    1977115                 17         2.00            C\n",
            "\n",
            "[63 rows x 4 columns]\n"
          ]
        }
      ]
    },
    {
      "cell_type": "code",
      "source": [
        "#checking for null values\n",
        "print(f'coloumns with null values: \\n{score_df.isnull().sum()}')"
      ],
      "metadata": {
        "colab": {
          "base_uri": "https://localhost:8080/"
        },
        "id": "rIN19qfvl30j",
        "outputId": "b33c03c0-4dc2-47f0-865c-80edc45eabf5"
      },
      "execution_count": null,
      "outputs": [
        {
          "output_type": "stream",
          "name": "stdout",
          "text": [
            "coloumns with null values: \n",
            "StudentID            0\n",
            "Preliminary Score    0\n",
            "CourseGrade          0\n",
            "letter_grade         0\n",
            "dtype: int64\n"
          ]
        }
      ]
    },
    {
      "cell_type": "markdown",
      "source": [
        "### Step 2: Splitting the dataset to trianing (80%) and test (20%)\n",
        "\n",
        "\n",
        "\n",
        "---\n",
        "\n"
      ],
      "metadata": {
        "id": "_vdHehx4nEjH"
      }
    },
    {
      "cell_type": "code",
      "source": [
        "# Separate the independent variable (x) and the target variable (y)\n",
        "x = score_df[['Preliminary Score']]\n",
        "y = score_df['letter_grade']\n",
        "\n",
        "# Splitting the data into training 80% and testing 20% sets\n",
        "x_train, x_test, y_train, y_test = train_test_split(x, y, test_size=0.2, random_state=42)\n"
      ],
      "metadata": {
        "id": "Kfoh-jpFnELz"
      },
      "execution_count": null,
      "outputs": []
    },
    {
      "cell_type": "markdown",
      "source": [
        "Step 3: Trianing and testing the model"
      ],
      "metadata": {
        "id": "2FYvGPK9nM9I"
      }
    },
    {
      "cell_type": "code",
      "source": [
        "from sklearn.tree import DecisionTreeClassifier\n",
        "from sklearn.metrics import accuracy_score\n",
        "# Initialize the decision tree classifier\n",
        "tree_model = DecisionTreeClassifier()\n",
        "\n",
        "# Fit the model to the training data\n",
        "tree_model.fit(x_train, y_train)\n",
        "\n",
        "# Make predictions on the test data\n",
        "y_pred = tree_model.predict(x_test)"
      ],
      "metadata": {
        "id": "NPwNPqGFn2k3"
      },
      "execution_count": null,
      "outputs": []
    },
    {
      "cell_type": "markdown",
      "source": [
        "### Step 4: Evaluating the model"
      ],
      "metadata": {
        "id": "e7nQbhS7o2Vi"
      }
    },
    {
      "cell_type": "code",
      "source": [
        "from sklearn.metrics import accuracy_score\n",
        "\n",
        "# calculating the accuracy of the model\n",
        "ac = accuracy_score(y_test, y_pred)\n",
        "print(f\"Accuracy: {ac}\")"
      ],
      "metadata": {
        "colab": {
          "base_uri": "https://localhost:8080/"
        },
        "id": "dRX7vcyfpK1J",
        "outputId": "26278a36-87a0-4526-c3ba-ab4cbac870be"
      },
      "execution_count": null,
      "outputs": [
        {
          "output_type": "stream",
          "name": "stdout",
          "text": [
            "Accuracy: 0.46153846153846156\n"
          ]
        }
      ]
    },
    {
      "cell_type": "code",
      "source": [
        "from sklearn.metrics import confusion_matrix\n",
        "\n",
        "# Evaluating and printing the confusion matrix\n",
        "cm = confusion_matrix(y_test, y_pred)\n",
        "# Setting the figure size\n",
        "plt.figure(figsize=(5, 3))\n",
        "\n",
        "# Creating a heatmap using seaborn\n",
        "sns.heatmap(cm, annot=True, fmt='d', cmap='Greens')\n",
        "# Setting labels, title, and ticks\n",
        "tick_labels = ['A', 'B', 'C', 'D', 'F']  # Order of the letter grades\n",
        "plt.xlabel('Predicted', fontsize=12)\n",
        "plt.ylabel('Actual', fontsize=12)\n",
        "plt.title('Confusion Matrix', fontsize=14)\n",
        "\n",
        "# Setting custom tick labels for x-axis and y-axis\n",
        "plt.xticks(ticks=[0.5, 1.5, 2.5, 3.5, 4.5], labels=tick_labels, fontsize=10)\n",
        "plt.yticks(ticks=[0.5, 1.5, 2.5, 3.5, 4.5], labels=tick_labels, fontsize=10)\n",
        "\n",
        "\n",
        "\n",
        "# Showing the plot\n",
        "plt.show()"
      ],
      "metadata": {
        "colab": {
          "base_uri": "https://localhost:8080/",
          "height": 338
        },
        "id": "8dSTIRj2pl1Y",
        "outputId": "02019915-c46c-4661-9c8c-281fded4c31e"
      },
      "execution_count": null,
      "outputs": [
        {
          "output_type": "display_data",
          "data": {
            "text/plain": [
              "<Figure size 500x300 with 2 Axes>"
            ],
            "image/png": "[encoded data removed]"
          },
          "metadata": {}
        }
      ]
    },
    {
      "cell_type": "code",
      "source": [
        "from sklearn.metrics import f1_score\n",
        "\n",
        "# Calculating the F1 score\n",
        "f1 = f1_score(y_test, y_pred, average='weighted')\n",
        "print(f\"F1 Score: {f1}\")"
      ],
      "metadata": {
        "colab": {
          "base_uri": "https://localhost:8080/"
        },
        "id": "FAbOAG_epqh6",
        "outputId": "3781b6f8-702d-4169-8b3e-12c34dec58be"
      },
      "execution_count": null,
      "outputs": [
        {
          "output_type": "stream",
          "name": "stdout",
          "text": [
            "F1 Score: 0.3905325443786982\n"
          ]
        }
      ]
    },
    {
      "cell_type": "markdown",
      "source": [
        "The accuracy of 0.4615 suggests that the model correctly predicted the letter grade for approximately 46.15% of the instances in the test set. A higher F1 score indicates better performance, with a perfect score of 1. Together the F1 score of 0.39 and accuracy of 0.4615 suggest that model is still not accurately predicting all the predictor variable."
      ],
      "metadata": {
        "id": "wz72l9ZTwIpM"
      }
    },
    {
      "cell_type": "markdown",
      "source": [
        "#Experiment 3\n",
        "\n"
      ],
      "metadata": {
        "id": "kMNOFVrWw_9Q"
      }
    },
    {
      "cell_type": "markdown",
      "source": [
        "### Step 1 : Preprocessing the dataframe"
      ],
      "metadata": {
        "id": "IOcFULkxyNok"
      }
    },
    {
      "cell_type": "code",
      "source": [
        "# Defining the grade ranges and corresponding labels\n",
        "grade_ranges = [-1, 2, 4.1]\n",
        "completion_labels = ['fail', 'pass']\n",
        "\n",
        "# Adding the \"completion_rate\" column using pd.cut\n",
        "score_df['completion_status'] = pd.cut(score_df['CourseGrade'], bins=grade_ranges, labels=completion_labels, right=False)\n",
        "\n",
        "# Print the updated DataFrame\n",
        "print(score_df)\n"
      ],
      "metadata": {
        "colab": {
          "base_uri": "https://localhost:8080/"
        },
        "outputId": "9a004bf2-651e-4771-b881-45866f56e4e7",
        "id": "VKaLyAkpyNos"
      },
      "execution_count": null,
      "outputs": [
        {
          "output_type": "stream",
          "name": "stdout",
          "text": [
            "    StudentID  Preliminary Score  CourseGrade letter_grade completion_status\n",
            "0     1003261                 26         2.67            B              pass\n",
            "1     1013794                 28         2.67            B              pass\n",
            "2     1017414                 29         4.00            A              pass\n",
            "3     1025667                 22         3.67            A              pass\n",
            "4     1074837                 26         4.00            A              pass\n",
            "..        ...                ...          ...          ...               ...\n",
            "58    1927306                 27         4.00            A              pass\n",
            "59    1945122                 27         2.00            C              pass\n",
            "60    1969949                 22         4.00            A              pass\n",
            "61    1977001                 19         2.33            C              pass\n",
            "62    1977115                 17         2.00            C              pass\n",
            "\n",
            "[63 rows x 5 columns]\n"
          ]
        }
      ]
    },
    {
      "cell_type": "code",
      "source": [
        "#checking for null values\n",
        "print(f'coloumns with null values: \\n{score_df.isnull().sum()}')"
      ],
      "metadata": {
        "colab": {
          "base_uri": "https://localhost:8080/"
        },
        "id": "JWgdj1QByiYh",
        "outputId": "6d5e7878-b79a-4e94-f35d-4b4e5c4598a6"
      },
      "execution_count": null,
      "outputs": [
        {
          "output_type": "stream",
          "name": "stdout",
          "text": [
            "coloumns with null values: \n",
            "StudentID            0\n",
            "Preliminary Score    0\n",
            "CourseGrade          0\n",
            "letter_grade         0\n",
            "completion_status    0\n",
            "dtype: int64\n"
          ]
        }
      ]
    },
    {
      "cell_type": "markdown",
      "source": [
        "### Step 2: Splitting the dataset to trianing (80%) and test (20%)\n",
        "\n"
      ],
      "metadata": {
        "id": "kWETaT44zKPM"
      }
    },
    {
      "cell_type": "code",
      "source": [
        "# Separating the independent variable (x) and the target variable (y)\n",
        "x = score_df[['Preliminary Score']]\n",
        "y = score_df['completion_status']\n",
        "\n",
        "# Splitting the data into training 80% and testing 20% sets\n",
        "x_train, x_test, y_train, y_test = train_test_split(x, y, test_size=0.2, random_state=42)\n"
      ],
      "metadata": {
        "id": "0NEVcv-iykQ-"
      },
      "execution_count": null,
      "outputs": []
    },
    {
      "cell_type": "markdown",
      "source": [
        "Step 3: Training and testing the model"
      ],
      "metadata": {
        "id": "J1JznWVizhiM"
      }
    },
    {
      "cell_type": "code",
      "source": [
        "from sklearn.tree import DecisionTreeClassifier\n",
        "from sklearn.metrics import accuracy_score\n",
        "# Initialize the decision tree classifier\n",
        "tree_model = DecisionTreeClassifier()\n",
        "\n",
        "# Fit the model to the training data\n",
        "tree_model.fit(x_train, y_train)\n",
        "\n",
        "# Make predictions on the test data\n",
        "y_pred = tree_model.predict(x_test)"
      ],
      "metadata": {
        "id": "AY3gERslzkeo"
      },
      "execution_count": null,
      "outputs": []
    },
    {
      "cell_type": "markdown",
      "source": [
        "### Step 4: Evaluating the model"
      ],
      "metadata": {
        "id": "7692Ry5PzoLj"
      }
    },
    {
      "cell_type": "code",
      "source": [
        "from sklearn.metrics import accuracy_score\n",
        "\n",
        "# calculating the accuracy of the model\n",
        "ac = accuracy_score(y_test, y_pred)\n",
        "print(f\"Accuracy: {ac}\")"
      ],
      "metadata": {
        "colab": {
          "base_uri": "https://localhost:8080/"
        },
        "outputId": "c39f70d4-ce1d-43ec-f29d-afb0129c2f85",
        "id": "ysCBfbrsz4-D"
      },
      "execution_count": null,
      "outputs": [
        {
          "output_type": "stream",
          "name": "stdout",
          "text": [
            "Accuracy: 0.7692307692307693\n"
          ]
        }
      ]
    },
    {
      "cell_type": "code",
      "source": [
        "from sklearn.metrics import confusion_matrix\n",
        "\n",
        "# Evaluating and printing the confusion matrix\n",
        "cm = confusion_matrix(y_test, y_pred)\n",
        "# Setting the figure size\n",
        "plt.figure(figsize=(5, 3))\n",
        "\n",
        "# Creating a heatmap using seaborn\n",
        "sns.heatmap(cm, annot=True, fmt='d', cmap='Greens')\n",
        "# Setting labels, title, and ticks\n",
        "tick_labels = ['Pass','Fail']  # Order of the letter grades\n",
        "plt.xlabel('Predicted', fontsize=12)\n",
        "plt.ylabel('Actual', fontsize=12)\n",
        "plt.title('Confusion Matrix', fontsize=14)\n",
        "\n",
        "# Setting custom tick labels for x-axis and y-axis\n",
        "plt.xticks(ticks=[0.5, 1.5], labels=tick_labels, fontsize=10)\n",
        "plt.yticks(ticks=[0.5, 1.5], labels=tick_labels, fontsize=10)\n",
        "\n",
        "plt.show()"
      ],
      "metadata": {
        "colab": {
          "base_uri": "https://localhost:8080/",
          "height": 338
        },
        "id": "JH3p2GR9z9_g",
        "outputId": "141f7e1c-419d-4ce6-f384-4383ceb55cc5"
      },
      "execution_count": null,
      "outputs": [
        {
          "output_type": "display_data",
          "data": {
            "text/plain": [
              "<Figure size 500x300 with 2 Axes>"
            ],
            "image/png": "[encoded data removed]"
          },
          "metadata": {}
        }
      ]
    },
    {
      "cell_type": "code",
      "source": [
        "from sklearn.metrics import f1_score\n",
        "\n",
        "# Calculating the F1 score\n",
        "f1 = f1_score(y_test, y_pred, average='weighted')\n",
        "print(f\"F1 Score: {f1}\")"
      ],
      "metadata": {
        "colab": {
          "base_uri": "https://localhost:8080/"
        },
        "id": "n462pOnO0mgF",
        "outputId": "b9822f48-c9f1-4cec-f28c-3ce053fd8077"
      },
      "execution_count": null,
      "outputs": [
        {
          "output_type": "stream",
          "name": "stdout",
          "text": [
            "F1 Score: 0.7868131868131869\n"
          ]
        }
      ]
    },
    {
      "cell_type": "markdown",
      "source": [
        "\n",
        "The accuracy of 0.7692 indicates that the model correctly predicted the completion rate (pass/fail) for approximately 76.92% of the instances in the test set. The F1 score of 0.7868 suggests that the model's overall performance is good, as it considers both precision and recall."
      ],
      "metadata": {
        "id": "w1_kV2jJ0-SO"
      }
    },
    {
      "cell_type": "markdown",
      "source": [
        "## Conclusion\n",
        "\n",
        "\n",
        "\n",
        "*   The three experiments are conducted to find if preliminary score can be a good predictor variable for course final Grade\n",
        "*   In the first experiment, the problem was treated as a regression type problem which resulted in below expected performance. Hence, we can conclude from the first experiment that preliminary score could not predict the exact value for the final course grade.\n",
        "*  The subsequent experiments, which treated the problem as a classification task, resulted in improved model performance, especially when the target variable was simplified to two categories (Pass, Fail).\n",
        "* However, the improvement in performance came with cost of reduced details of class variable.\n",
        "* In conclusion, these experiments demonstrate the potential of machine learning in educational settings, where it can aid in predicting student performance and getting help in a timely manner.\n",
        "\n"
      ],
      "metadata": {
        "id": "lYYDgQuL4W2s"
      }
    }
  ]
}