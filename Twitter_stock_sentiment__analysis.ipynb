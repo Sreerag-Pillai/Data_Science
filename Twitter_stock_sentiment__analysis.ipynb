{
  "nbformat": 4,
  "nbformat_minor": 0,
  "metadata": {
    "colab": {
      "provenance": []
    },
    "kernelspec": {
      "name": "python3",
      "display_name": "Python 3"
    },
    "language_info": {
      "name": "python"
    }
  },
  "cells": [
    {
      "cell_type": "markdown",
      "source": [
        "Sentimental Analysis on Tweets using TextBlob\n",
        "\n",
        "\n",
        "*   The program will ask the user for a keyword to search for 100 latest\n",
        "*   Using Twitter API the program will performs sentiment analysis on each    tweet and calculates its polarity scores\n",
        "*   For classification pupose then calculates the average polarity score of all tweets and determines the sentiment of the keyword based on the polarity score\n",
        "* At the end the program will plot a histogram of the sentiment scores\n",
        "\n",
        "\n"
      ],
      "metadata": {
        "id": "RqUj3Vt8NY21"
      }
    },
    {
      "cell_type": "code",
      "source": [
        "#***********************************************************************************************************************************************************\n",
        "# Programmer: Sreerag M. Pillai\n",
        "#\n",
        "# Pseudocode:\n",
        "# Import necessary libraries - tweepy, textblob, pandas, and matplotlib.\n",
        "#\n",
        "# Set up the Twitter API keys and tokens.\n",
        "#\n",
        "# Ask the user to enter a keyword to search for.\n",
        "#\n",
        "# Use the Tweepy library to establish twitter API connection to search for the last 1000 tweets that contain the user inputted keyword.\n",
        "#\n",
        "# Perform sentiment analysis on each tweet using TextBlob library.\n",
        "#\n",
        "# Calculate the average polarity score of all tweets.\n",
        "#\n",
        "# Determine the sentiment of the keyword based on the polarity score - Positive / Negative / Neutral.\n",
        "#\n",
        "# Print the sentiment and average polarity scores.\n",
        "#\n",
        "# Use pandas to create a DataFrame of the sentiment scores for plotting.\n",
        "#\n",
        "# Use matplotlib to plot a histogram of the sentiment scores.\n",
        "#*****************************************************************************************************************************************************************"
      ],
      "metadata": {
        "id": "W9RmXZBKM0pc"
      },
      "execution_count": null,
      "outputs": []
    },
    {
      "cell_type": "code",
      "source": [
        "#installing necessary libraries\n",
        "!pip install pandas\n",
        "!pip install tweepy\n",
        "!pip install textblob\n",
        "!pip install matplotlib\n"
      ],
      "metadata": {
        "colab": {
          "base_uri": "https://localhost:8080/"
        },
        "id": "_nAjUpOsXsMm",
        "outputId": "e7d9f050-6438-46ba-d5f5-526612729957"
      },
      "execution_count": null,
      "outputs": [
        {
          "output_type": "stream",
          "name": "stdout",
          "text": [
            "Looking in indexes: https://pypi.org/simple, https://us-python.pkg.dev/colab-wheels/public/simple/\n",
            "Requirement already satisfied: tweepy in /usr/local/lib/python3.8/dist-packages (3.10.0)\n",
            "Requirement already satisfied: requests-oauthlib>=0.7.0 in /usr/local/lib/python3.8/dist-packages (from tweepy) (1.3.1)\n",
            "Requirement already satisfied: requests[socks]>=2.11.1 in /usr/local/lib/python3.8/dist-packages (from tweepy) (2.25.1)\n",
            "Requirement already satisfied: six>=1.10.0 in /usr/local/lib/python3.8/dist-packages (from tweepy) (1.15.0)\n",
            "Requirement already satisfied: oauthlib>=3.0.0 in /usr/local/lib/python3.8/dist-packages (from requests-oauthlib>=0.7.0->tweepy) (3.2.2)\n",
            "Requirement already satisfied: idna<3,>=2.5 in /usr/local/lib/python3.8/dist-packages (from requests[socks]>=2.11.1->tweepy) (2.10)\n",
            "Requirement already satisfied: urllib3<1.27,>=1.21.1 in /usr/local/lib/python3.8/dist-packages (from requests[socks]>=2.11.1->tweepy) (1.24.3)\n",
            "Requirement already satisfied: chardet<5,>=3.0.2 in /usr/local/lib/python3.8/dist-packages (from requests[socks]>=2.11.1->tweepy) (4.0.0)\n",
            "Requirement already satisfied: certifi>=2017.4.17 in /usr/local/lib/python3.8/dist-packages (from requests[socks]>=2.11.1->tweepy) (2022.12.7)\n",
            "Requirement already satisfied: PySocks!=1.5.7,>=1.5.6 in /usr/local/lib/python3.8/dist-packages (from requests[socks]>=2.11.1->tweepy) (1.7.1)\n",
            "Looking in indexes: https://pypi.org/simple, https://us-python.pkg.dev/colab-wheels/public/simple/\n",
            "Requirement already satisfied: textblob in /usr/local/lib/python3.8/dist-packages (0.15.3)\n",
            "Requirement already satisfied: nltk>=3.1 in /usr/local/lib/python3.8/dist-packages (from textblob) (3.7)\n",
            "Requirement already satisfied: click in /usr/local/lib/python3.8/dist-packages (from nltk>=3.1->textblob) (7.1.2)\n",
            "Requirement already satisfied: joblib in /usr/local/lib/python3.8/dist-packages (from nltk>=3.1->textblob) (1.2.0)\n",
            "Requirement already satisfied: regex>=2021.8.3 in /usr/local/lib/python3.8/dist-packages (from nltk>=3.1->textblob) (2022.6.2)\n",
            "Requirement already satisfied: tqdm in /usr/local/lib/python3.8/dist-packages (from nltk>=3.1->textblob) (4.64.1)\n",
            "Looking in indexes: https://pypi.org/simple, https://us-python.pkg.dev/colab-wheels/public/simple/\n",
            "Requirement already satisfied: pandas in /usr/local/lib/python3.8/dist-packages (1.3.5)\n",
            "Requirement already satisfied: python-dateutil>=2.7.3 in /usr/local/lib/python3.8/dist-packages (from pandas) (2.8.2)\n",
            "Requirement already satisfied: numpy>=1.17.3 in /usr/local/lib/python3.8/dist-packages (from pandas) (1.21.6)\n",
            "Requirement already satisfied: pytz>=2017.3 in /usr/local/lib/python3.8/dist-packages (from pandas) (2022.7.1)\n",
            "Requirement already satisfied: six>=1.5 in /usr/local/lib/python3.8/dist-packages (from python-dateutil>=2.7.3->pandas) (1.15.0)\n",
            "Looking in indexes: https://pypi.org/simple, https://us-python.pkg.dev/colab-wheels/public/simple/\n",
            "Requirement already satisfied: matplotlib in /usr/local/lib/python3.8/dist-packages (3.2.2)\n",
            "Requirement already satisfied: python-dateutil>=2.1 in /usr/local/lib/python3.8/dist-packages (from matplotlib) (2.8.2)\n",
            "Requirement already satisfied: cycler>=0.10 in /usr/local/lib/python3.8/dist-packages (from matplotlib) (0.11.0)\n",
            "Requirement already satisfied: numpy>=1.11 in /usr/local/lib/python3.8/dist-packages (from matplotlib) (1.21.6)\n",
            "Requirement already satisfied: pyparsing!=2.0.4,!=2.1.2,!=2.1.6,>=2.0.1 in /usr/local/lib/python3.8/dist-packages (from matplotlib) (3.0.9)\n",
            "Requirement already satisfied: kiwisolver>=1.0.1 in /usr/local/lib/python3.8/dist-packages (from matplotlib) (1.4.4)\n",
            "Requirement already satisfied: six>=1.5 in /usr/local/lib/python3.8/dist-packages (from python-dateutil>=2.1->matplotlib) (1.15.0)\n"
          ]
        }
      ]
    },
    {
      "cell_type": "code",
      "execution_count": 19,
      "metadata": {
        "id": "oGlnkMguXhzQ",
        "colab": {
          "base_uri": "https://localhost:8080/",
          "height": 434
        },
        "outputId": "2333d9ac-252f-490c-a297-f4017fca846c"
      },
      "outputs": [
        {
          "output_type": "stream",
          "name": "stdout",
          "text": [
            "Enter the word to search: \n",
            "ABNB\n",
            "\n",
            "Average polarity of 100 tweets is: 0.03144857954545456 \n",
            "\n",
            "The sentiment of word \"ABNB\" is Positive\n",
            "\n",
            "\n"
          ]
        },
        {
          "output_type": "display_data",
          "data": {
            "text/plain": [
              "<Figure size 432x288 with 1 Axes>"
            ],
            "image/png": "[encoded data removed]"
          },
          "metadata": {
            "needs_background": "light"
          }
        }
      ],
      "source": [
        "import tweepy\n",
        "from textblob import TextBlob\n",
        "import pandas as pd\n",
        "import matplotlib.pyplot as plt\n",
        "\n",
        "# Set up API keys and tokens\n",
        "consumer_key = ''\n",
        "consumer_secret = ''\n",
        "access_token = ''\n",
        "access_token_secret = ''\n",
        "\n",
        "# Authenticate with Twitter API\n",
        "auth = tweepy.OAuthHandler(consumer_key, consumer_secret)\n",
        "auth.set_access_token(access_token, access_token_secret)\n",
        "\n",
        "# Set up API client\n",
        "api = tweepy.API(auth)\n",
        "\n",
        "# Asking for user input for search\n",
        "print(f'Enter the word to search: ')\n",
        "user_input = str(input())\n",
        "\n",
        "print()\n",
        "\n",
        "# Search for last 1000 tweets with a given keyword\n",
        "public_tweets = api.search(user_input, count=1000)\n",
        "\n",
        "# Perform sentiment analysis on each tweet\n",
        "sentiments_list = []\n",
        "for tweet in public_tweets:\n",
        "    analysis = TextBlob(tweet.text)\n",
        "    sentiment = analysis.sentiment.polarity\n",
        "    sentiments_list.append(sentiment)\n",
        "\n",
        "# Calculate average polarity of all tweets\n",
        "average_polarity = sum(sentiments_list) / len(sentiments_list)\n",
        "\n",
        "\n",
        "# determining possitive or negative sentiment\n",
        "def sentiment(x):\n",
        "  if x > 0:\n",
        "    sentiment = \"Positive\"\n",
        "  elif x < 0:\n",
        "    sentiment = \"Negative\"\n",
        "  else:\n",
        "    sentiment = \"Neutral\"\n",
        "  return sentiment\n",
        "\n",
        "\n",
        "print(f\"Average polarity of {len(sentiments_list)} tweets is: {average_polarity} \\n\\nThe sentiment of word \\\"{user_input}\\\" is {sentiment(average_polarity)}\\n\\n\")\n",
        "\n",
        "\n",
        "\n",
        "# Plot sentiment analysis results using matplotlib\n",
        "df = pd.DataFrame(sentiments_list, columns=['Sentiment'])\n",
        "plt.hist(df['Sentiment'], bins=20, color='purple')\n",
        "plt.title('Sentiment Analysis')\n",
        "plt.xlabel('Polarity')\n",
        "plt.ylabel('Frequency')\n",
        "plt.show()\n",
        "\n",
        "\n"
      ]
    }
  ]
}
